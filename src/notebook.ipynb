{
 "cells": [
  {
   "cell_type": "code",
   "execution_count": null,
   "id": "a6a7384a",
   "metadata": {},
   "outputs": [
    {
     "name": "stdout",
     "output_type": "stream",
     "text": [
      "Imports successful!\n"
     ]
    }
   ],
   "source": [
    "import sys\n",
    "from pathlib import Path\n",
    "from pydantic import SecretStr\n",
    "\n",
    "# Add project root to Python path\n",
    "project_root = Path.cwd().parent\n",
    "sys.path.insert(0, str(project_root))\n",
    "\n",
    "from src.config import QDRANT_HOST, GEMINI_API_KEY\n",
    "\n",
    "from langchain_google_genai import GoogleGenerativeAIEmbeddings\n",
    "from langchain_qdrant import QdrantVectorStore\n",
    "from qdrant_client import QdrantClient\n",
    "from qdrant_client.models import Filter, FieldCondition, MatchValue\n",
    "\n",
    "print(\"Imports successful!\")\n",
    "\n",
    "COLLECTION_NAME = \"dekkingen\"\n",
    "EMBEDDING_MODEL_NAME = \"models/embedding-001\"\n",
    "\n",
    "embeddings = GoogleGenerativeAIEmbeddings(\n",
    "            model=EMBEDDING_MODEL_NAME,\n",
    "            google_api_key=SecretStr(GEMINI_API_KEY) if GEMINI_API_KEY else None\n",
    "        )"
   ]
  },
  {
   "cell_type": "code",
   "execution_count": 9,
   "id": "8b8209f5",
   "metadata": {},
   "outputs": [
    {
     "name": "stderr",
     "output_type": "stream",
     "text": [
      "/tmp/ipykernel_9/3204690380.py:1: UserWarning: Qdrant client version 1.15.1 is incompatible with server version 1.9.5. Major versions should match and minor version difference must not exceed 1. Set check_compatibility=False to skip version check.\n",
      "  client = QdrantClient(host=QDRANT_HOST)\n"
     ]
    }
   ],
   "source": [
    "client = QdrantClient(host=QDRANT_HOST)"
   ]
  },
  {
   "cell_type": "code",
   "execution_count": null,
   "id": "b3bbf797",
   "metadata": {},
   "outputs": [],
   "source": []
  }
 ],
 "metadata": {
  "kernelspec": {
   "display_name": "Python 3 (ipykernel)",
   "language": "python",
   "name": "python3"
  },
  "language_info": {
   "codemirror_mode": {
    "name": "ipython",
    "version": 3
   },
   "file_extension": ".py",
   "mimetype": "text/x-python",
   "name": "python",
   "nbconvert_exporter": "python",
   "pygments_lexer": "ipython3",
   "version": "3.12.12"
  }
 },
 "nbformat": 4,
 "nbformat_minor": 5
}
