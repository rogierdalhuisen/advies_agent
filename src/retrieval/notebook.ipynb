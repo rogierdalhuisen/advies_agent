{
 "cells": [
  {
   "cell_type": "code",
   "execution_count": 1,
   "id": "a6a7384a",
   "metadata": {},
   "outputs": [],
   "source": [
    "from dotenv import load_dotenv\n",
    "from langchain_qdrant import QdrantVectorStore\n",
    "from qdrant_client import QdrantClient\n",
    "from qdrant_client.http.models import Distance, VectorParams\n"
   ]
  },
  {
   "cell_type": "code",
   "execution_count": 3,
   "id": "a92b0a8f",
   "metadata": {},
   "outputs": [
    {
     "name": "stdout",
     "output_type": "stream",
     "text": [
      "\u001b[31mInit signature:\u001b[39m\n",
      "QdrantClient(\n",
      "    location: Optional[str] = \u001b[38;5;28;01mNone\u001b[39;00m,\n",
      "    url: Optional[str] = \u001b[38;5;28;01mNone\u001b[39;00m,\n",
      "    port: Optional[int] = \u001b[32m6333\u001b[39m,\n",
      "    grpc_port: int = \u001b[32m6334\u001b[39m,\n",
      "    prefer_grpc: bool = \u001b[38;5;28;01mFalse\u001b[39;00m,\n",
      "    https: Optional[bool] = \u001b[38;5;28;01mNone\u001b[39;00m,\n",
      "    api_key: Optional[str] = \u001b[38;5;28;01mNone\u001b[39;00m,\n",
      "    prefix: Optional[str] = \u001b[38;5;28;01mNone\u001b[39;00m,\n",
      "    timeout: Optional[int] = \u001b[38;5;28;01mNone\u001b[39;00m,\n",
      "    host: Optional[str] = \u001b[38;5;28;01mNone\u001b[39;00m,\n",
      "    path: Optional[str] = \u001b[38;5;28;01mNone\u001b[39;00m,\n",
      "    force_disable_check_same_thread: bool = \u001b[38;5;28;01mFalse\u001b[39;00m,\n",
      "    grpc_options: Optional[dict[str, Any]] = \u001b[38;5;28;01mNone\u001b[39;00m,\n",
      "    auth_token_provider: Union[Callable[[], str], Callable[[], Awaitable[str]], NoneType] = \u001b[38;5;28;01mNone\u001b[39;00m,\n",
      "    cloud_inference: bool = \u001b[38;5;28;01mFalse\u001b[39;00m,\n",
      "    local_inference_batch_size: Optional[int] = \u001b[38;5;28;01mNone\u001b[39;00m,\n",
      "    check_compatibility: bool = \u001b[38;5;28;01mTrue\u001b[39;00m,\n",
      "    **kwargs: Any,\n",
      ")\n",
      "\u001b[31mDocstring:\u001b[39m     \n",
      "Entry point to communicate with Qdrant service via REST or gRPC API.\n",
      "\n",
      "It combines interface classes and endpoint implementation.\n",
      "Additionally, it provides custom implementations for frequently used methods like initial collection upload.\n",
      "\n",
      "All methods in QdrantClient accept both gRPC and REST structures as an input.\n",
      "Conversion will be performed automatically.\n",
      "\n",
      ".. note::\n",
      "    This module methods are wrappers around generated client code for gRPC and REST methods.\n",
      "    If you need lower-level access to generated clients, use following properties:\n",
      "\n",
      "    - :py:attr:`QdrantClient.grpc_points`\n",
      "    - :py:attr:`QdrantClient.grpc_collections`\n",
      "    - :py:attr:`QdrantClient.rest`\n",
      "\n",
      ".. note::\n",
      "    If you need async, please consider using Async Implementations of QdrantClient.\n",
      "\n",
      "    - :class:`qdrant_client.async_qdrant_client`\n",
      "\n",
      "Args:\n",
      "    location:\n",
      "        If `\":memory:\"` - use in-memory Qdrant instance.\n",
      "        If `str` - use it as a `url` parameter.\n",
      "        If `None` - use default values for `host` and `port`.\n",
      "    url: either host or str of \"Optional[scheme], host, Optional[port], Optional[prefix]\".\n",
      "        Default: `None`\n",
      "    port: Port of the REST API interface. Default: 6333\n",
      "    grpc_port: Port of the gRPC interface. Default: 6334\n",
      "    prefer_grpc: If `true` - use gPRC interface whenever possible in custom methods.\n",
      "    https: If `true` - use HTTPS(SSL) protocol. Default: `None`\n",
      "    api_key: API key for authentication in Qdrant Cloud. Default: `None`\n",
      "    prefix:\n",
      "        If not `None` - add `prefix` to the REST URL path.\n",
      "        Example: `service/v1` will result in `http://localhost:6333/service/v1/{qdrant-endpoint}` for REST API.\n",
      "        Default: `None`\n",
      "    timeout:\n",
      "        Timeout for REST and gRPC API requests.\n",
      "        Default: 5 seconds for REST and unlimited for gRPC\n",
      "    host: Host name of Qdrant service. If url and host are None, set to 'localhost'.\n",
      "        Default: `None`\n",
      "    path: Persistence path for QdrantLocal. Default: `None`\n",
      "    force_disable_check_same_thread:\n",
      "        For QdrantLocal, force disable check_same_thread. Default: `False`\n",
      "        Only use this if you can guarantee that you can resolve the thread safety outside QdrantClient.\n",
      "    auth_token_provider: Callback function to get Bearer access token. If given, the function will be called before each request to get the token.\n",
      "    check_compatibility: If `true` - check compatibility with the server version. Default: `true`\n",
      "    **kwargs: Additional arguments passed directly into REST client initialization\n",
      "\u001b[31mFile:\u001b[39m           ~/dev/joho/advies_agent/.venv/lib/python3.12/site-packages/qdrant_client/qdrant_client.py\n",
      "\u001b[31mType:\u001b[39m           type\n",
      "\u001b[31mSubclasses:\u001b[39m     "
     ]
    }
   ],
   "source": [
    "QdrantClient?\n"
   ]
  },
  {
   "cell_type": "code",
   "execution_count": null,
   "id": "d4cd13b2",
   "metadata": {},
   "outputs": [],
   "source": []
  }
 ],
 "metadata": {
  "kernelspec": {
   "display_name": "Python (advies_agent)",
   "language": "python",
   "name": "venv"
  },
  "language_info": {
   "codemirror_mode": {
    "name": "ipython",
    "version": 3
   },
   "file_extension": ".py",
   "mimetype": "text/x-python",
   "name": "python",
   "nbconvert_exporter": "python",
   "pygments_lexer": "ipython3",
   "version": "3.12.9"
  }
 },
 "nbformat": 4,
 "nbformat_minor": 5
}
