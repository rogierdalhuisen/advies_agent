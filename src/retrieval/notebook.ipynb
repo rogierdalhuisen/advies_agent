{
 "cells": [
  {
   "cell_type": "code",
   "execution_count": 80,
   "id": "a6a7384a",
   "metadata": {},
   "outputs": [
    {
     "name": "stdout",
     "output_type": "stream",
     "text": [
      "Imports successful!\n"
     ]
    }
   ],
   "source": [
    "from pathlib import Path\n",
    "import sys\n",
    "import os\n",
    "from pydantic import SecretStr\n",
    "\n",
    "current_folder = Path.cwd()\n",
    "src_root = current_folder.parent\n",
    "project_root = src_root.parent\n",
    "sys.path.insert(0, str(project_root))\n",
    "\n",
    "\n",
    "from src.config import QDRANT_HOST, GEMINI_API_KEY, OPENAI_API_KEY\n",
    "\n",
    "from langchain_google_genai import GoogleGenerativeAIEmbeddings\n",
    "from langchain_openai import OpenAIEmbeddings, ChatOpenAI\n",
    "from langchain_qdrant import QdrantVectorStore\n",
    "from qdrant_client import QdrantClient\n",
    "from qdrant_client.models import Filter, FieldCondition, MatchValue\n",
    "from langchain_qdrant import QdrantVectorStore, RetrievalMode, FastEmbedSparse\n",
    "from langchain_classic.tools.retriever import create_retriever_tool\n",
    "from langgraph.graph import MessagesState\n",
    "from langchain.chat_models import init_chat_model\n",
    "from langchain_core.tools import Tool\n",
    "from src.retrieval.custom_tools import create_company_search_tool, create_all_companies_dense_search_tool\n",
    "from langchain_core.messages import HumanMessage\n",
    "from langgraph.prebuilt import ToolNode\n",
    "from langchain_core.messages import HumanMessage, AIMessage, BaseMessage\n",
    "from typing import List\n",
    "\n",
    "print(\"Imports successful!\")"
   ]
  },
  {
   "cell_type": "markdown",
   "id": "81ccab5f",
   "metadata": {},
   "source": [
    "### Configuration"
   ]
  },
  {
   "cell_type": "code",
   "execution_count": 7,
   "id": "809f4003",
   "metadata": {},
   "outputs": [],
   "source": [
    "llm = ChatOpenAI(\n",
    "    model=\"gpt-5-mini\",\n",
    "    api_key=SecretStr(OPENAI_API_KEY) if OPENAI_API_KEY else None,\n",
    ")"
   ]
  },
  {
   "cell_type": "code",
   "execution_count": 11,
   "id": "fba8a8b5",
   "metadata": {},
   "outputs": [],
   "source": [
    "COLLECTION_NAME = \"dekkingen\"\n",
    "#EMBEDDING_MODEL_NAME = \"models/embedding-001\"\n",
    "EMBEDDING_MODEL_NAME = \"text-embedding-3-large\" \n",
    "COLLECTION_NAME = \"dekkingen\"\n",
    "EMBEDDING_DIMENSION = 3072  # embedding-001 produces 768-dimensional vectors\n",
    "# Sparse embedding configuration for hybrid retrieval\n",
    "SPARSE_MODEL_NAME = \"Qdrant/bm25\"  # BM25 sparse embeddings\n",
    "DENSE_VECTOR_NAME = \"dense\"  # Name for dense vectors in Qdrant\n",
    "SPARSE_VECTOR_NAME = \"sparse\"  # Name for sparse vectors in Qdrant\n",
    "\n",
    "embeddings = OpenAIEmbeddings(\n",
    "            model=EMBEDDING_MODEL_NAME,\n",
    "            api_key=SecretStr(OPENAI_API_KEY) if OPENAI_API_KEY else None\n",
    "        )\n",
    "\n",
    "sparse_embeddings = FastEmbedSparse(model_name=SPARSE_MODEL_NAME)"
   ]
  },
  {
   "cell_type": "markdown",
   "id": "7868f56e",
   "metadata": {},
   "source": [
    "### Initialize VectorStore"
   ]
  },
  {
   "cell_type": "code",
   "execution_count": 12,
   "id": "504d8929",
   "metadata": {},
   "outputs": [],
   "source": [
    "client = QdrantClient(host=QDRANT_HOST)\n",
    "vector_store = QdrantVectorStore(\n",
    "    client=client,\n",
    "    collection_name=\"dekkingen\",\n",
    "    embedding=embeddings,\n",
    "    sparse_embedding=sparse_embeddings,\n",
    "    retrieval_mode=RetrievalMode.DENSE,\n",
    "    vector_name=\"dense\",\n",
    "    sparse_vector_name=\"sparse\",\n",
    ")"
   ]
  },
  {
   "cell_type": "markdown",
   "id": "8b4795be",
   "metadata": {},
   "source": [
    "### Custom tools"
   ]
  },
  {
   "cell_type": "code",
   "execution_count": 96,
   "id": "b528c0b9",
   "metadata": {},
   "outputs": [],
   "source": [
    "company_search_tool= create_company_search_tool(vector_store)\n",
    "search_tool = create_all_companies_dense_search_tool(vector_store)\n",
    "tools = [company_search_tool, search_tool]\n",
    "llm_with_tools = llm.bind_tools(tools)\n",
    "tools_by_name = {tool.name: tool for tool in tools}\n",
    "query = \"ik wil fysiotherapie vergelijken voor alle beschikbare verzekeringen, gebruik een beschikbare tool\""
   ]
  },
  {
   "cell_type": "code",
   "execution_count": 97,
   "id": "ddc8e7f5",
   "metadata": {},
   "outputs": [],
   "source": [
    "def answer_with_tool(query: str) -> List[BaseMessage]:\n",
    "    messages: List[BaseMessage] = [HumanMessage(content=query)]\n",
    "    ai_msg = llm_with_tools.invoke(messages)\n",
    "    messages.append(ai_msg)\n",
    "\n",
    "    # Check if it wants to use tools\n",
    "    if ai_msg.tool_calls:\n",
    "\n",
    "        # Execute the tools\n",
    "        for tool_call in ai_msg.tool_calls:\n",
    "            tool_result = tools_by_name[tool_call['name']].invoke(tool_call)\n",
    "            messages.append(tool_result)\n",
    "\n",
    "        # Ask again with tool results\n",
    "        final_msg = llm_with_tools.invoke(messages)\n",
    "        messages.append(final_msg)\n",
    "        return messages  # This is the answer!\n",
    "    else:\n",
    "        # It answered directly without tools\n",
    "        return messages\n",
    "    \n",
    "resultaten = answer_with_tool(query)"
   ]
  },
  {
   "cell_type": "code",
   "execution_count": 99,
   "id": "93f5063a",
   "metadata": {},
   "outputs": [
    {
     "data": {
      "text/plain": [
       "'Ik heb de beschikbare dekkingsteksten doorzocht. Hieronder een samenvatting van de fysiotherapie-dekking per verzekeraar (bron: de gevonden dekkingsdocumenten).\\n\\nKort overzicht\\n- Goudse (Expat Pakket Individueel)\\n  - Fysiotherapie / oefentherapie (poliklinisch):  \\n    - Standaard: niet gedekt  \\n    - Optimaal: 20 behandelingen  \\n    - Excellent: 30 behandelingen  \\n  - Niet-klinische revalidatie: Optimaal 20 / Excellent 30 behandelingen (relevant als fysiotherapie als revalidatie wordt aangemerkt)  \\n  - Klinische revalidatie (opname): Standaard 100% tot 60 dagen, Optimaal 100% tot 180 dagen, Excellent 100% tot 365 dagen\\n\\n- Henner (International Expat Insurance Package)\\n  - Physiotherapy (outpatient):  \\n    - Essential: niet gedekt  \\n    - Bronze: 100% tot €1.000 per jaar  \\n    - Gold: 100% tot €3.000 per jaar  \\n  - Revalidatie na ziekenhuisopname: Gold 100% tot max. 28 dagen (Essential/Bronze niet gedekt)  \\n  - Paramedische therapieën (bijv. ergotherapie/logopedie): Gold 100%, Essential/Bronze niet gedekt\\n\\nBelangrijkste verschillen (kort)\\n- Goudse gebruikt een limiet in aantal behandelingen (20 of 30 sessies afhankelijk van pakket).  \\n- Henner gebruikt een financieel plafond (€1.000 of €3.000) met 100%-vergoeding tot dat plafond.  \\n- Voor (post-)klinische revalidatie en therapieën kunnen aparte regels gelden; Gold/Excellent-pakketten geven vaak meer dekking.\\n\\nPraktische hint\\n- Welke optie beter is hangt af van verwachte kosten per sessie: bij b.v. €50 per fysiotherapiesessie komen 20 sessies neer op €1.000 — dat is vergelijkbaar met Henner Bronze of Goudse Optimaal. Bij duurdere sessies of meer dan ~20–30 sessies kan Henner Gold of Goudse Excellent voordeliger zijn.\\n\\nWil je dat ik:\\n- een kant-en-klare vergelijkingstabel maak (per plan: aantal sessies / plafond / afwijkende regels)?  \\n- ook premie, eigen risico of polisvorm (natura vs restitutie) meeneem (als die informatie beschikbaar moet worden opgezocht)?  \\n- meer verzekeraars doorzoek als er nog andere beschikbaar zijn?'"
      ]
     },
     "execution_count": 99,
     "metadata": {},
     "output_type": "execute_result"
    }
   ],
   "source": [
    "resultaten[3].content"
   ]
  },
  {
   "cell_type": "code",
   "execution_count": 89,
   "id": "1e60bac3",
   "metadata": {},
   "outputs": [
    {
     "data": {
      "text/plain": [
       "[HumanMessage(content='Bij welke dekking bij goudse is fysiotherapie gedekt?', additional_kwargs={}, response_metadata={}),\n",
       " AIMessage(content='', additional_kwargs={'refusal': None}, response_metadata={'token_usage': {'completion_tokens': 118, 'prompt_tokens': 380, 'total_tokens': 498, 'completion_tokens_details': {'accepted_prediction_tokens': 0, 'audio_tokens': 0, 'reasoning_tokens': 64, 'rejected_prediction_tokens': 0}, 'prompt_tokens_details': {'audio_tokens': 0, 'cached_tokens': 0}}, 'model_provider': 'openai', 'model_name': 'gpt-5-mini-2025-08-07', 'system_fingerprint': None, 'id': 'chatcmpl-CUBi1KGE5N0aFs6rcT8Gr0hOYeqgi', 'service_tier': 'default', 'finish_reason': 'tool_calls', 'logprobs': None}, id='lc_run--6f986d68-5323-4b90-a48c-d80b99931a95-0', tool_calls=[{'name': 'search_company_coverage', 'args': {'query': 'fysiotherapie vergoeding Goudse welke dekking fysiotherapie gedekt fysiotherapeut zorgverzekering aanvullend', 'company': 'Goudse', 'k': 10}, 'id': 'call_rYN3pIkKHdlQ0yzHTOGKyEnT', 'type': 'tool_call'}], usage_metadata={'input_tokens': 380, 'output_tokens': 118, 'total_tokens': 498, 'input_token_details': {'audio': 0, 'cache_read': 0}, 'output_token_details': {'audio': 0, 'reasoning': 64}}),\n",
       " ToolMessage(content=\"[(Document(metadata={'document_name': 'goudse_dekking.md', 'document_id': '66cf5937e9872a08', 'company': 'Goudse', 'ingestion_timestamp': '2025-10-24T07:49:09.011550', 'filepath': '/app/data/documents/dekkingen/goudse_dekking.md', 'header_1': 'Expat Pakket Individueel - Premie- en dekkingsoverzicht 2025', 'header_2': '2. Ziektekosten', 'header_3': '2.1 Verzekerde rubrieken ziektekosten', 'header_4': 'Poliklinisch', 'header_5': 'Fysiotherapie en oefentherapie', '_id': '36f688fb-c560-4e9c-a6bd-831c8bf7f58c', '_collection_name': 'dekkingen'}, page_content='##### Fysiotherapie en oefentherapie  \\\\nDit betreft de vergoeding voor behandelingen door een fysiotherapeut of oefentherapeut om bewegingsklachten te verhelpen of te voorkomen. Dit is niet gedekt onder het Standaard plan. Voor het Optimaal plan worden 20 behandelingen gedekt. Voor het Excellent plan worden 30 behandelingen gedekt.'), 0.63191867), (Document(metadata={'document_name': 'goudse_dekking.md', 'document_id': '66cf5937e9872a08', 'company': 'Goudse', 'ingestion_timestamp': '2025-10-24T07:49:09.011550', 'filepath': '/app/data/documents/dekkingen/goudse_dekking.md', 'header_1': 'Expat Pakket Individueel - Premie- en dekkingsoverzicht 2025', 'header_2': '2. Ziektekosten', 'header_3': '2.1 Verzekerde rubrieken ziektekosten', 'header_4': 'Poliklinisch', 'header_5': 'Ergotherapie', '_id': '5707051f-4320-4cf8-ae28-d2900d6d6637', '_collection_name': 'dekkingen'}, page_content='##### Ergotherapie  \\\\nDit omvat therapie die mensen helpt om dagelijkse activiteiten (weer) zo zelfstandig mogelijk uit te voeren. Dit is niet gedekt onder het Standaard plan. Voor het Optimaal plan worden 10 behandelingen gedekt. Voor het Excellent plan worden 15 behandelingen gedekt.'), 0.5172881), (Document(metadata={'document_name': 'goudse_dekking.md', 'document_id': '66cf5937e9872a08', 'company': 'Goudse', 'ingestion_timestamp': '2025-10-24T07:49:09.011550', 'filepath': '/app/data/documents/dekkingen/goudse_dekking.md', 'header_1': 'Expat Pakket Individueel - Premie- en dekkingsoverzicht 2025', 'header_2': '2. Ziektekosten', 'header_3': '2.1 Verzekerde rubrieken ziektekosten', 'header_4': 'Geestelijke gezondheidszorg', 'header_5': 'Psychologische zorg', '_id': '80cddae5-43e1-4c14-a705-0588d015fe3a', '_collection_name': 'dekkingen'}, page_content='##### Psychologische zorg  \\\\nDit verwijst naar de vergoeding voor behandeling en consulten door een psycholoog. Dit is niet gedekt onder het Standaard plan. Voor het Optimaal plan wordt 50% gedekt. Voor het Excellent plan wordt 50% gedekt. Voor het Optimaal en Excellent plan geldt een gezamenlijk maximum van € 2.000,- per jaar voor psychiatrische en psychologische zorg.'), 0.5077313), (Document(metadata={'document_name': 'goudse_dekking.md', 'document_id': '66cf5937e9872a08', 'company': 'Goudse', 'ingestion_timestamp': '2025-10-24T07:49:09.011550', 'filepath': '/app/data/documents/dekkingen/goudse_dekking.md', 'header_1': 'Expat Pakket Individueel - Premie- en dekkingsoverzicht 2025', 'header_2': '2. Ziektekosten', 'header_3': '2.1 Verzekerde rubrieken ziektekosten', 'header_4': 'Poliklinisch', 'header_5': 'Alternatieve geneeswijzen', '_id': '348bf6d9-c874-4ebc-a231-88d0eb0e846e', '_collection_name': 'dekkingen'}, page_content='##### Alternatieve geneeswijzen  \\\\nDit omvat behandelingen die buiten de reguliere geneeskunde vallen, zoals acupunctuur of homeopathie. Dit is niet gedekt onder het Standaard plan. Dit is niet gedekt onder het Optimaal plan. Voor het Excellent plan wordt € 30,- per behandeling vergoed, met een maximum van 10 behandelingen.'), 0.50521636), (Document(metadata={'document_name': 'goudse_dekking.md', 'document_id': '66cf5937e9872a08', 'company': 'Goudse', 'ingestion_timestamp': '2025-10-24T07:49:09.011550', 'filepath': '/app/data/documents/dekkingen/goudse_dekking.md', 'header_1': 'Expat Pakket Individueel - Premie- en dekkingsoverzicht 2025', 'header_2': '2. Ziektekosten', 'header_3': '2.1 Verzekerde rubrieken ziektekosten', 'header_4': 'Poliklinisch', 'header_5': 'Podotherapie', '_id': 'fc5db58a-8bac-4326-93b5-a30fe752b725', '_collection_name': 'dekkingen'}, page_content='##### Podotherapie  \\\\nDit betreft de vergoeding voor behandelingen door een podotherapeut, gericht op het verhelpen van voetklachten of problemen die voortkomen uit een verkeerde voetstand. Dit is niet gedekt onder het Standaard plan. Voor het Optimaal plan worden 10 behandelingen gedekt. Voor het Excellent plan worden 15 behandelingen gedekt.'), 0.50439906), (Document(metadata={'document_name': 'goudse_dekking.md', 'document_id': '66cf5937e9872a08', 'company': 'Goudse', 'ingestion_timestamp': '2025-10-24T07:49:09.011550', 'filepath': '/app/data/documents/dekkingen/goudse_dekking.md', 'header_1': 'Expat Pakket Individueel - Premie- en dekkingsoverzicht 2025', 'header_2': '2. Ziektekosten', 'header_3': '2.1 Verzekerde rubrieken ziektekosten', 'header_4': 'Poliklinisch', 'header_5': 'Arts fleboloog', '_id': 'eac0189e-37d7-4151-af5e-60b36031c543', '_collection_name': 'dekkingen'}, page_content='##### Arts fleboloog  \\\\nDit betreft de vergoeding voor behandelingen door een fleboloog, een arts gespecialiseerd in vaatziekten zoals spataderen. Dit is niet gedekt onder het Standaard plan. Voor het Optimaal plan worden 10 behandelingen gedekt. Voor het Excellent plan is dit 100% gedekt.'), 0.48382574), (Document(metadata={'document_name': 'goudse_dekking.md', 'document_id': '66cf5937e9872a08', 'company': 'Goudse', 'ingestion_timestamp': '2025-10-24T07:49:09.011550', 'filepath': '/app/data/documents/dekkingen/goudse_dekking.md', 'header_1': 'Expat Pakket Individueel - Premie- en dekkingsoverzicht 2025', 'header_2': '2. Ziektekosten', 'header_3': '2.1 Verzekerde rubrieken ziektekosten', 'header_4': 'Geestelijke gezondheidszorg', 'header_5': 'Psychiatrische zorg', '_id': 'd322c135-7b86-4f14-bb35-ef0b1b1095c2', '_collection_name': 'dekkingen'}, page_content='#### Geestelijke gezondheidszorg  \\\\n##### Psychiatrische zorg  \\\\nDit betreft de vergoeding voor behandeling en consulten door een psychiater. Dit is niet gedekt onder het Standaard plan. Voor het Optimaal plan wordt 50% gedekt. Voor het Excellent plan wordt 50% gedekt. Voor het Optimaal en Excellent plan geldt een gezamenlijk maximum van € 2.000,- per jaar voor psychiatrische en psychologische zorg.'), 0.4836589), (Document(metadata={'document_name': 'goudse_dekking.md', 'document_id': '66cf5937e9872a08', 'company': 'Goudse', 'ingestion_timestamp': '2025-10-24T07:49:09.011550', 'filepath': '/app/data/documents/dekkingen/goudse_dekking.md', 'header_1': 'Expat Pakket Individueel - Premie- en dekkingsoverzicht 2025', 'header_2': '2. Ziektekosten', 'header_3': '2.1 Verzekerde rubrieken ziektekosten', 'header_4': 'Poliklinisch', 'header_5': 'Stottertherapie', '_id': '5c2c9056-12fa-4e7f-8368-0f7c0dc39e7c', '_collection_name': 'dekkingen'}, page_content='##### Stottertherapie  \\\\nDit verwijst naar behandelingen en begeleiding om het stotteren te verminderen of beter te beheersen. Dit is niet gedekt onder het Standaard plan. Voor het Optimaal plan worden 10 behandelingen gedekt. Voor het Excellent plan worden 15 behandelingen gedekt.'), 0.47825664), (Document(metadata={'document_name': 'goudse_dekking.md', 'document_id': '66cf5937e9872a08', 'company': 'Goudse', 'ingestion_timestamp': '2025-10-24T07:49:09.011550', 'filepath': '/app/data/documents/dekkingen/goudse_dekking.md', 'header_1': 'Expat Pakket Individueel - Premie- en dekkingsoverzicht 2025', 'header_2': '2. Ziektekosten', 'header_3': '2.1 Verzekerde rubrieken ziektekosten', 'header_4': 'Genees- en hulpmiddelen', 'header_5': 'Medische hulpmiddelen', '_id': '45a31ecb-85ef-411d-9603-5991999eb668', '_collection_name': 'dekkingen'}, page_content='##### Medische hulpmiddelen  \\\\nDit verwijst naar de vergoeding voor apparaten of instrumenten die nodig zijn voor behandeling of ondersteuning, zoals krukken of een rolstoel. Dit is niet gedekt onder het Standaard plan. Voor het Optimaal plan wordt 75% vergoed tot een maximum van € 3.000,-. Voor het Excellent plan wordt 85% vergoed tot een maximum van € 5.000,-.'), 0.4763043), (Document(metadata={'document_name': 'goudse_dekking.md', 'document_id': '66cf5937e9872a08', 'company': 'Goudse', 'ingestion_timestamp': '2025-10-24T07:49:09.011550', 'filepath': '/app/data/documents/dekkingen/goudse_dekking.md', 'header_1': 'Expat Pakket Individueel - Premie- en dekkingsoverzicht 2025', 'header_2': '2. Ziektekosten', 'header_3': '2.1 Verzekerde rubrieken ziektekosten', 'header_4': 'Poliklinisch', 'header_5': 'Thuisverpleging (gediplomeerd)', '_id': 'eaa0467a-562f-452f-8772-55954fc7f577', '_collection_name': 'dekkingen'}, page_content='##### Thuisverpleging (gediplomeerd)  \\\\nDit betreft de vergoeding voor verpleegkundige zorg die thuis wordt verleend door een gediplomeerd verpleegkundige. Voor het Standaard plan is dit 100% gedekt. Voor het Optimaal plan is dit 100% gedekt. Voor het Excellent plan is dit 100% gedekt.'), 0.47277427)]\", name='search_company_coverage', tool_call_id='call_rYN3pIkKHdlQ0yzHTOGKyEnT'),\n",
       " AIMessage(content='In het Goudse Expat Pakket (Individueel) geldt voor fysiotherapie / oefentherapie:\\n\\n- Standaard: niet gedekt  \\n- Optimaal: 20 behandelingen gedekt  \\n- Excellent: 30 behandelingen gedekt\\n\\nWil je dat ik controleer of dit ook geldt voor jouw polisjaar of voor een ander Goudse-product?', additional_kwargs={'refusal': None}, response_metadata={'token_usage': {'completion_tokens': 342, 'prompt_tokens': 3297, 'total_tokens': 3639, 'completion_tokens_details': {'accepted_prediction_tokens': 0, 'audio_tokens': 0, 'reasoning_tokens': 256, 'rejected_prediction_tokens': 0}, 'prompt_tokens_details': {'audio_tokens': 0, 'cached_tokens': 0}}, 'model_provider': 'openai', 'model_name': 'gpt-5-mini-2025-08-07', 'system_fingerprint': None, 'id': 'chatcmpl-CUBi6hIOOrAw8HsHorBY1u74A2y1W', 'service_tier': 'default', 'finish_reason': 'stop', 'logprobs': None}, id='lc_run--12c3a425-1251-4cbd-9c69-c0ee011f5477-0', usage_metadata={'input_tokens': 3297, 'output_tokens': 342, 'total_tokens': 3639, 'input_token_details': {'audio': 0, 'cache_read': 0}, 'output_token_details': {'audio': 0, 'reasoning': 256}}),\n",
       " AIMessage(content='The capital of France is Paris.', additional_kwargs={'refusal': None}, response_metadata={'token_usage': {'completion_tokens': 16, 'prompt_tokens': 12, 'total_tokens': 28, 'completion_tokens_details': {'accepted_prediction_tokens': 0, 'audio_tokens': 0, 'reasoning_tokens': 0, 'rejected_prediction_tokens': 0}, 'prompt_tokens_details': {'audio_tokens': 0, 'cached_tokens': 0}}, 'model_provider': 'openai', 'model_name': 'gpt-5-mini-2025-08-07', 'system_fingerprint': None, 'id': 'chatcmpl-CUBkEN6slXpKe98EZxRJCJFdPSHYZ', 'service_tier': 'default', 'finish_reason': 'stop', 'logprobs': None}, id='lc_run--22949052-3c26-4c7e-9182-ee768cb9ff79-0', usage_metadata={'input_tokens': 12, 'output_tokens': 16, 'total_tokens': 28, 'input_token_details': {'audio': 0, 'cache_read': 0}, 'output_token_details': {'audio': 0, 'reasoning': 0}})]"
      ]
     },
     "execution_count": 89,
     "metadata": {},
     "output_type": "execute_result"
    }
   ],
   "source": [
    "messages"
   ]
  },
  {
   "cell_type": "code",
   "execution_count": null,
   "id": "394883a1",
   "metadata": {},
   "outputs": [],
   "source": [
    "\n",
    "tools_by_name = {tool.name: tool for tool in tools}\n",
    "\n",
    "messages = [HumanMessage(content=query)]\n",
    "ai_msg = llm_with_tools.invoke(messages)\n",
    "messages.append(ai_msg)\n",
    "for tool_call in ai_msg.tool_calls:\n",
    "    tool_result = tools_by_name[tool_call[\"name\"]].invoke(tool_call)\n",
    "    messages.append(tool_result)\n",
    "\n",
    "final_response = llm_with_tools.invoke(messages)\n"
   ]
  },
  {
   "cell_type": "code",
   "execution_count": 72,
   "id": "20090755",
   "metadata": {},
   "outputs": [
    {
     "name": "stdout",
     "output_type": "stream",
     "text": [
      "messages: [ToolMessage(content=\"[(Document(metadata={'document_name': 'goudse_dekking.md', 'document_id': '66cf5937e9872a08', 'company': 'Goudse', 'ingestion_timestamp': '2025-10-24T07:49:09.011550', 'filepath': '/app/data/documents/dekkingen/goudse_dekking.md', 'header_1': 'Expat Pakket Individueel - Premie- en dekkingsoverzicht 2025', 'header_2': '2. Ziektekosten', 'header_3': '2.1 Verzekerde rubrieken ziektekosten', 'header_4': 'Orthodontie', 'header_5': 'Overige orthodontie kinderen < 21 jaar', '_id': 'ce2d364f-f672-4364-a204-2f2f7d1c8c93', '_collection_name': 'dekkingen'}, page_content='##### Overige orthodontie kinderen < 21 jaar  \\\\nDit verwijst naar de vergoeding voor overige orthodontische zorg, zoals beugels, voor kinderen en jongeren tot 21 jaar, die niet gerelateerd is aan een schisis. Dit is niet gedekt onder het Standaard plan. Dit is niet gedekt onder het Optimaal plan. Voor het Excellent plan geldt een maximale vergoeding van € 1.000,- per verzekerde gedurende de gehele verzekeringsduur.'), 0.54447746), (Document(metadata={'document_name': 'goudse_dekking.md', 'document_id': '66cf5937e9872a08', 'company': 'Goudse', 'ingestion_timestamp': '2025-10-24T07:49:09.011550', 'filepath': '/app/data/documents/dekkingen/goudse_dekking.md', 'header_1': 'Expat Pakket Individueel - Premie- en dekkingsoverzicht 2025', 'header_2': '1. SOS-hulpverlening', '_id': '8b992068-b165-4adf-8569-07f2e25de585', '_collection_name': 'dekkingen'}, page_content='# Expat Pakket Individueel - Premie- en dekkingsoverzicht 2025  \\\\n## 1. SOS-hulpverlening  \\\\nIndien gekozen voor de SOS-hulpverlening, kan de verzekerde 24/7 een beroep doen op De Goudse Alarmcentrale voor hulp bij ziekte, ongeval of overlijden.  \\\\n- **Contact De Goudse Alarmcentrale:** +31 182 544 557\\\\n- **Contact vanuit de V.S.:** +001 800 694 9832'), 0.53973556), (Document(metadata={'document_name': 'goudse_dekking.md', 'document_id': '66cf5937e9872a08', 'company': 'Goudse', 'ingestion_timestamp': '2025-10-24T07:49:09.011550', 'filepath': '/app/data/documents/dekkingen/goudse_dekking.md', 'header_1': 'Expat Pakket Individueel - Premie- en dekkingsoverzicht 2025', 'header_2': '2. Ziektekosten', 'header_3': '2.1 Verzekerde rubrieken ziektekosten', 'header_4': 'Orthodontie', 'header_5': 'Lip-, kaak-, verhemeltespleet', '_id': 'f298b917-e295-405b-b9b5-59d9abfb4a3f', '_collection_name': 'dekkingen'}, page_content='#### Orthodontie  \\\\n##### Lip-, kaak-, verhemeltespleet  \\\\nDit betreft de vergoeding voor orthodontische behandelingen die noodzakelijk zijn als gevolg van een aangeboren schisis (hazenlip) of een spleet in de kaak of het verhemelte. Dit is niet gedekt onder het Standaard plan. Dit is niet gedekt onder het Optimaal plan. Voor het Excellent plan is dit 100% gedekt.'), 0.52519685), (Document(metadata={'document_name': 'goudse_dekking.md', 'document_id': '66cf5937e9872a08', 'company': 'Goudse', 'ingestion_timestamp': '2025-10-24T07:49:09.011550', 'filepath': '/app/data/documents/dekkingen/goudse_dekking.md', 'header_1': 'Expat Pakket Individueel - Premie- en dekkingsoverzicht 2025', 'header_2': '2. Ziektekosten', 'header_3': '2.1 Verzekerde rubrieken ziektekosten', 'header_4': 'Genees- en hulpmiddelen', 'header_5': 'Brillenglazen en contactlenzen', '_id': 'd9fcc48f-e325-49e1-9164-c2c9608abb1e', '_collection_name': 'dekkingen'}, page_content='##### Brillenglazen en contactlenzen  \\\\nDit omvat de vergoeding voor visuele hulpmiddelen zoals brillenglazen of contactlenzen ter correctie van het gezichtsvermogen. Dit is niet gedekt onder het Standaard plan. Dit is niet gedekt onder het Optimaal plan. Voor het Excellent plan geldt een maximale vergoeding van € 100,-.'), 0.51509184), (Document(metadata={'document_name': 'goudse_dekking.md', 'document_id': '66cf5937e9872a08', 'company': 'Goudse', 'ingestion_timestamp': '2025-10-24T07:49:09.011550', 'filepath': '/app/data/documents/dekkingen/goudse_dekking.md', 'header_1': 'Expat Pakket Individueel - Premie- en dekkingsoverzicht 2025', 'header_2': '2. Ziektekosten', 'header_3': '2.1 Verzekerde rubrieken ziektekosten', 'header_4': 'Klinisch', 'header_5': 'Kaakchirurgie', '_id': '075fd4fd-a78f-4632-99f8-fd7c3271f8b9', '_collection_name': 'dekkingen'}, page_content='##### Kaakchirurgie  \\\\nDit omvat chirurgische ingrepen aan de kaak, vaak uitgevoerd door een kaakchirurg. Voor het Standaard plan is dit 100% gedekt. Voor het Optimaal plan is dit 100% gedekt. Voor het Excellent plan is dit 100% gedekt.'), 0.5011184)]\", name='search_company_coverage', tool_call_id='call_boeeoYLZhI41ULSUbPBBWKe8')]/n\n"
     ]
    }
   ],
   "source": [
    "for key, value in tool_messages.items():\n",
    "    print(f\"{key}: {value}/n\")"
   ]
  },
  {
   "cell_type": "code",
   "execution_count": null,
   "id": "a4d3c5e4",
   "metadata": {},
   "outputs": [
    {
     "ename": "AttributeError",
     "evalue": "'str' object has no attribute 'invoke'",
     "output_type": "error",
     "traceback": [
      "\u001b[31m---------------------------------------------------------------------------\u001b[39m",
      "\u001b[31mAttributeError\u001b[39m                            Traceback (most recent call last)",
      "\u001b[36mCell\u001b[39m\u001b[36m \u001b[39m\u001b[32mIn[53]\u001b[39m\u001b[32m, line 1\u001b[39m\n\u001b[32m----> \u001b[39m\u001b[32m1\u001b[39m result = \u001b[43mai_msg\u001b[49m\u001b[43m.\u001b[49m\u001b[43mtool_calls\u001b[49m\u001b[43m[\u001b[49m\u001b[32;43m0\u001b[39;49m\u001b[43m]\u001b[49m\u001b[43m[\u001b[49m\u001b[33;43m\"\u001b[39;49m\u001b[33;43mname\u001b[39;49m\u001b[33;43m\"\u001b[39;49m\u001b[43m]\u001b[49m\u001b[43m.\u001b[49m\u001b[43minvoke\u001b[49m(ai_msg.tool_calls[\u001b[32m0\u001b[39m][\u001b[33m'\u001b[39m\u001b[33margs\u001b[39m\u001b[33m'\u001b[39m])\n",
      "\u001b[31mAttributeError\u001b[39m: 'str' object has no attribute 'invoke'"
     ]
    }
   ],
   "source": [
    "result = company_search_tool.invoke(ai_msg.tool_calls[0]['args'])"
   ]
  },
  {
   "cell_type": "code",
   "execution_count": 46,
   "id": "236c7afb",
   "metadata": {},
   "outputs": [
    {
     "data": {
      "text/plain": [
       "[{'name': 'search_company_coverage',\n",
       "  'args': {'query': 'beugelverzekering orthodontie beugel dekking',\n",
       "   'company': 'Goudse',\n",
       "   'k': 5},\n",
       "  'id': 'call_9QYEhCaIAQQqXKLgznhf9Yxb',\n",
       "  'type': 'tool_call'}]"
      ]
     },
     "execution_count": 46,
     "metadata": {},
     "output_type": "execute_result"
    }
   ],
   "source": [
    "ai_msg.tool_calls"
   ]
  },
  {
   "cell_type": "code",
   "execution_count": 51,
   "id": "0f179c11",
   "metadata": {},
   "outputs": [
    {
     "name": "stdout",
     "output_type": "stream",
     "text": [
      "##### Overige orthodontie kinderen < 21 jaar  \n",
      "Dit verwijst naar de vergoeding voor overige orthodontische zorg, zoals beugels, voor kinderen en jongeren tot 21 jaar, die niet gerelateerd is aan een schisis. Dit is niet gedekt onder het Standaard plan. Dit is niet gedekt onder het Optimaal plan. Voor het Excellent plan geldt een maximale vergoeding van € 1.000,- per verzekerde gedurende de gehele verzekeringsduur.\n",
      "#### Orthodontie  \n",
      "##### Lip-, kaak-, verhemeltespleet  \n",
      "Dit betreft de vergoeding voor orthodontische behandelingen die noodzakelijk zijn als gevolg van een aangeboren schisis (hazenlip) of een spleet in de kaak of het verhemelte. Dit is niet gedekt onder het Standaard plan. Dit is niet gedekt onder het Optimaal plan. Voor het Excellent plan is dit 100% gedekt.\n",
      "##### Kaakchirurgie  \n",
      "Dit omvat chirurgische ingrepen aan de kaak, vaak uitgevoerd door een kaakchirurg. Voor het Standaard plan is dit 100% gedekt. Voor het Optimaal plan is dit 100% gedekt. Voor het Excellent plan is dit 100% gedekt.\n",
      "##### Brillenglazen en contactlenzen  \n",
      "Dit omvat de vergoeding voor visuele hulpmiddelen zoals brillenglazen of contactlenzen ter correctie van het gezichtsvermogen. Dit is niet gedekt onder het Standaard plan. Dit is niet gedekt onder het Optimaal plan. Voor het Excellent plan geldt een maximale vergoeding van € 100,-.\n",
      "##### Borstcorrectie  \n",
      "Dit betreft de vergoeding voor een chirurgische correctie van de borsten, wat zowel medisch als cosmetisch kan zijn. Dit is niet gedekt onder het Standaard plan. Voor het Optimaal plan is dit 100% gedekt. Voor het Excellent plan is dit 100% gedekt.\n"
     ]
    }
   ],
   "source": [
    "for (doc, score) in result:\n",
    "    print(doc.page_content)"
   ]
  },
  {
   "cell_type": "code",
   "execution_count": 7,
   "id": "c8c8bdd4",
   "metadata": {},
   "outputs": [
    {
     "name": "stdout",
     "output_type": "stream",
     "text": [
      "should=None min_should=None must=[FieldCondition(key='metadata.company', match=MatchValue(value='Henner'), range=None, geo_bounding_box=None, geo_radius=None, geo_polygon=None, values_count=None, is_empty=None, is_null=None)] must_not=None\n"
     ]
    }
   ],
   "source": [
    "results = company_search_tool.invoke({\"query\": \"ik zoek zwangerschaps dekking\", \"company\": \"Henner\", \"k\": 5})"
   ]
  },
  {
   "cell_type": "code",
   "execution_count": null,
   "id": "f3756ec8",
   "metadata": {},
   "outputs": [
    {
     "name": "stdout",
     "output_type": "stream",
     "text": [
      "{'document_name': 'henner_dekking.md', 'document_id': '79df16d23a93ed39', 'company': 'Henner', 'ingestion_timestamp': '2025-10-24T07:49:09.011839', 'filepath': '/app/data/documents/dekkingen/henner_dekking.md', 'header_1': 'International Expat Insurance Package - Benefit Overview 2025', 'header_2': 'Wijzigingen dekking pasgeborenen per 1-1-2025', '_id': '4c7c6a37-09a8-4659-99a1-6c6c7ef7b915', '_collection_name': 'dekkingen'}\n",
      "{'document_name': 'henner_dekking.md', 'document_id': '79df16d23a93ed39', 'company': 'Henner', 'ingestion_timestamp': '2025-10-24T07:49:09.011839', 'filepath': '/app/data/documents/dekkingen/henner_dekking.md', 'header_1': 'International Expat Insurance Package - Benefit Overview 2025', 'header_2': 'International Medical and Assistance Insurance - Core Plan', 'header_4': 'PREGNANCY AND CHILDBIRTH (wachttijd 10 maanden)', 'header_5': 'Pregnancy (outpatient)', '_id': '33daf49e-4ecb-435b-a4ca-56e480169fc8', '_collection_name': 'dekkingen'}\n",
      "{'document_name': 'henner_dekking.md', 'document_id': '79df16d23a93ed39', 'company': 'Henner', 'ingestion_timestamp': '2025-10-24T07:49:09.011839', 'filepath': '/app/data/documents/dekkingen/henner_dekking.md', 'header_1': 'International Expat Insurance Package - Benefit Overview 2025', 'header_2': 'International Medical and Assistance Insurance - Core Plan', 'header_4': 'HOSPITALISATION', 'header_5': 'New born²', '_id': '8a37abfd-7fc3-40cf-b9f8-59cc283513da', '_collection_name': 'dekkingen'}\n",
      "{'document_name': 'henner_dekking.md', 'document_id': '79df16d23a93ed39', 'company': 'Henner', 'ingestion_timestamp': '2025-10-24T07:49:09.011839', 'filepath': '/app/data/documents/dekkingen/henner_dekking.md', 'header_1': 'International Expat Insurance Package - Benefit Overview 2025', 'header_2': 'International Medical and Assistance Insurance - Core Plan', 'header_4': 'HOSPITALISATION', 'header_5': 'Complications of pregnancy', '_id': '251d0611-c60b-4333-badb-5cd8f09423d5', '_collection_name': 'dekkingen'}\n",
      "{'document_name': 'henner_dekking.md', 'document_id': '79df16d23a93ed39', 'company': 'Henner', 'ingestion_timestamp': '2025-10-24T07:49:09.011839', 'filepath': '/app/data/documents/dekkingen/henner_dekking.md', 'header_1': 'International Expat Insurance Package - Benefit Overview 2025', 'header_2': 'International Medical and Assistance Insurance - Core Plan', 'header_4': 'PREGNANCY AND CHILDBIRTH (wachttijd 10 maanden)', 'header_5': 'Childbirth (no complications)', '_id': 'e4e8ef11-e018-4b93-8ac2-5dd5c4576370', '_collection_name': 'dekkingen'}\n"
     ]
    }
   ],
   "source": [
    "for (doc, score) in results:\n",
    "    print(doc.metadata)"
   ]
  },
  {
   "cell_type": "code",
   "execution_count": null,
   "id": "9b621b93",
   "metadata": {},
   "outputs": [],
   "source": [
    "query = \"ik zoek zwangerschaps dekking\"\n",
    "dense_results = vector_store.similarity_search_with_score(\n",
    "    query,\n",
    "    k=5,\n",
    ")"
   ]
  },
  {
   "cell_type": "code",
   "execution_count": 15,
   "id": "46834819",
   "metadata": {},
   "outputs": [
    {
     "data": {
      "text/plain": [
       "[(Document(metadata={'document_name': 'goudse_dekking.md', 'document_id': '66cf5937e9872a08', 'company': 'Goudse', 'ingestion_timestamp': '2025-10-24T07:49:09.011550', 'filepath': '/app/data/documents/dekkingen/goudse_dekking.md', 'header_1': 'Expat Pakket Individueel - Premie- en dekkingsoverzicht 2025', 'header_2': '2. Ziektekosten', 'header_3': '2.1 Verzekerde rubrieken ziektekosten', 'header_4': 'Poliklinisch', 'header_5': 'Dieetadvisering', '_id': 'f18657b0-74ea-499a-933d-30523546e867', '_collection_name': 'dekkingen'}, page_content='##### Dieetadvisering  \\nDit verwijst naar de vergoeding voor advies en begeleiding door een diëtist. Dit is niet gedekt onder het Standaard plan. Voor het Optimaal plan is dit 100% gedekt. Voor het Excellent plan is dit 100% gedekt.'),\n",
       "  0.5200777),\n",
       " (Document(metadata={'document_name': 'henner_dekking.md', 'document_id': '79df16d23a93ed39', 'company': 'Henner', 'ingestion_timestamp': '2025-10-24T07:49:09.011839', 'filepath': '/app/data/documents/dekkingen/henner_dekking.md', 'header_1': 'International Expat Insurance Package - Benefit Overview 2025', 'header_2': 'International Medical and Assistance Insurance - Core Plan', 'header_4': 'HOSPITALISATION', 'header_5': 'Cancer treatment', '_id': 'da450c25-4705-4f45-bc22-0b75d5d083dc', '_collection_name': 'dekkingen'}, page_content='##### Cancer treatment  \\nDit dekt de medische kosten voor de behandeling van kanker, zoals chemotherapie of bestraling. Het Essential plan biedt 100% dekking. Het Bronze plan biedt 100% dekking. Het Gold plan biedt 100% dekking.'),\n",
       "  0.47876006),\n",
       " (Document(metadata={'document_name': 'henner_dekking.md', 'document_id': '79df16d23a93ed39', 'company': 'Henner', 'ingestion_timestamp': '2025-10-24T07:49:09.011839', 'filepath': '/app/data/documents/dekkingen/henner_dekking.md', 'header_1': 'International Expat Insurance Package - Benefit Overview 2025', 'header_2': 'International Medical and Assistance Insurance - Core Plan', 'header_4': 'HOSPITALISATION', 'header_5': 'Chronic/pre-existing conditions', '_id': '550f2953-8f08-4b74-9ea3-e7e37c456e3e', '_collection_name': 'dekkingen'}, page_content='##### Chronic/pre-existing conditions  \\nDit betreft de dekking voor chronische aandoeningen of medische condities die al bestonden vóór het afsluiten van de verzekering. Dit is niet gedekt onder het Essential plan. Het Bronze plan biedt dekking (Gedekt¹). Het Gold plan biedt dekking (Gedekt¹).'),\n",
       "  0.47343343),\n",
       " (Document(metadata={'document_name': 'henner_dekking.md', 'document_id': '79df16d23a93ed39', 'company': 'Henner', 'ingestion_timestamp': '2025-10-24T07:49:09.011839', 'filepath': '/app/data/documents/dekkingen/henner_dekking.md', 'header_1': 'International Expat Insurance Package - Benefit Overview 2025', 'header_2': 'International Medical and Assistance Insurance - Core Plan', 'header_4': 'OUTPATIENT TREATMENT', 'header_5': 'Psychiatric outpatient care', '_id': 'e5226028-89ab-4d5a-b6c0-044221299d18', '_collection_name': 'dekkingen'}, page_content='##### Psychiatric outpatient care  \\nDit dekt de kosten voor ambulante psychiatrische behandelingen, zoals consulten bij een psychiater of psycholoog, zonder dat er sprake is van een opname. Dit is niet gedekt onder het Essential plan. Dit is niet gedekt onder het Bronze plan. Het Gold plan biedt 50% dekking tot € 2.000.'),\n",
       "  0.47075114),\n",
       " (Document(metadata={'document_name': 'goudse_dekking.md', 'document_id': '66cf5937e9872a08', 'company': 'Goudse', 'ingestion_timestamp': '2025-10-24T07:49:09.011550', 'filepath': '/app/data/documents/dekkingen/goudse_dekking.md', 'header_1': 'Expat Pakket Individueel - Premie- en dekkingsoverzicht 2025', 'header_2': '2. Ziektekosten', 'header_3': '2.1 Verzekerde rubrieken ziektekosten', 'header_4': 'Geestelijke gezondheidszorg', 'header_5': 'Opname psychiatrisch ziekenhuis', '_id': '98246150-6af7-4b74-90a4-d4fcb78c4726', '_collection_name': 'dekkingen'}, page_content='##### Opname psychiatrisch ziekenhuis  \\nDit omvat de vergoeding voor een verblijf (opname) in een psychiatrische kliniek of ziekenhuis voor intensieve behandeling. Dit is niet gedekt onder het Standaard plan. Voor het Optimaal plan wordt dit 100% gedekt tot een maximum van 180 dagen. Voor het Excellent plan wordt dit 100% gedekt tot een maximum van 365 dagen.'),\n",
       "  0.4655757)]"
      ]
     },
     "execution_count": 15,
     "metadata": {},
     "output_type": "execute_result"
    }
   ],
   "source": [
    "dense_results"
   ]
  },
  {
   "cell_type": "code",
   "execution_count": 20,
   "id": "cad2b950",
   "metadata": {},
   "outputs": [
    {
     "name": "stdout",
     "output_type": "stream",
     "text": [
      "{'document_name': 'goudse_dekking.md', 'document_id': '66cf5937e9872a08', 'company': 'Goudse', 'ingestion_timestamp': '2025-10-24T07:49:09.011550', 'filepath': '/app/data/documents/dekkingen/goudse_dekking.md', 'header_1': 'Expat Pakket Individueel - Premie- en dekkingsoverzicht 2025', 'header_2': '2. Ziektekosten', 'header_3': '2.1 Verzekerde rubrieken ziektekosten', 'header_4': 'Poliklinisch', 'header_5': 'Dieetadvisering', '_id': 'f18657b0-74ea-499a-933d-30523546e867', '_collection_name': 'dekkingen'}\n",
      "##### Dieetadvisering  \n",
      "Dit verwijst naar de vergoeding voor advies en begeleiding door een diëtist. Dit is niet gedekt onder het Standaard plan. Voor het Optimaal plan is dit 100% gedekt. Voor het Excellent plan is dit 100% gedekt.\n",
      "Score: 0.5200937\n",
      "\n",
      "{'document_name': 'henner_dekking.md', 'document_id': '79df16d23a93ed39', 'company': 'Henner', 'ingestion_timestamp': '2025-10-24T07:49:09.011839', 'filepath': '/app/data/documents/dekkingen/henner_dekking.md', 'header_1': 'International Expat Insurance Package - Benefit Overview 2025', 'header_2': 'International Medical and Assistance Insurance - Core Plan', 'header_4': 'HOSPITALISATION', 'header_5': 'Cancer treatment', '_id': 'da450c25-4705-4f45-bc22-0b75d5d083dc', '_collection_name': 'dekkingen'}\n",
      "##### Cancer treatment  \n",
      "Dit dekt de medische kosten voor de behandeling van kanker, zoals chemotherapie of bestraling. Het Essential plan biedt 100% dekking. Het Bronze plan biedt 100% dekking. Het Gold plan biedt 100% dekking.\n",
      "Score: 0.47878513\n",
      "\n",
      "{'document_name': 'henner_dekking.md', 'document_id': '79df16d23a93ed39', 'company': 'Henner', 'ingestion_timestamp': '2025-10-24T07:49:09.011839', 'filepath': '/app/data/documents/dekkingen/henner_dekking.md', 'header_1': 'International Expat Insurance Package - Benefit Overview 2025', 'header_2': 'International Medical and Assistance Insurance - Core Plan', 'header_4': 'HOSPITALISATION', 'header_5': 'Chronic/pre-existing conditions', '_id': '550f2953-8f08-4b74-9ea3-e7e37c456e3e', '_collection_name': 'dekkingen'}\n",
      "##### Chronic/pre-existing conditions  \n",
      "Dit betreft de dekking voor chronische aandoeningen of medische condities die al bestonden vóór het afsluiten van de verzekering. Dit is niet gedekt onder het Essential plan. Het Bronze plan biedt dekking (Gedekt¹). Het Gold plan biedt dekking (Gedekt¹).\n",
      "Score: 0.47347552\n",
      "\n",
      "{'document_name': 'henner_dekking.md', 'document_id': '79df16d23a93ed39', 'company': 'Henner', 'ingestion_timestamp': '2025-10-24T07:49:09.011839', 'filepath': '/app/data/documents/dekkingen/henner_dekking.md', 'header_1': 'International Expat Insurance Package - Benefit Overview 2025', 'header_2': 'International Medical and Assistance Insurance - Core Plan', 'header_4': 'OUTPATIENT TREATMENT', 'header_5': 'Psychiatric outpatient care', '_id': 'e5226028-89ab-4d5a-b6c0-044221299d18', '_collection_name': 'dekkingen'}\n",
      "##### Psychiatric outpatient care  \n",
      "Dit dekt de kosten voor ambulante psychiatrische behandelingen, zoals consulten bij een psychiater of psycholoog, zonder dat er sprake is van een opname. Dit is niet gedekt onder het Essential plan. Dit is niet gedekt onder het Bronze plan. Het Gold plan biedt 50% dekking tot € 2.000.\n",
      "Score: 0.47077882\n",
      "\n",
      "{'document_name': 'goudse_dekking.md', 'document_id': '66cf5937e9872a08', 'company': 'Goudse', 'ingestion_timestamp': '2025-10-24T07:49:09.011550', 'filepath': '/app/data/documents/dekkingen/goudse_dekking.md', 'header_1': 'Expat Pakket Individueel - Premie- en dekkingsoverzicht 2025', 'header_2': '2. Ziektekosten', 'header_3': '2.1 Verzekerde rubrieken ziektekosten', 'header_4': 'Geestelijke gezondheidszorg', 'header_5': 'Opname psychiatrisch ziekenhuis', '_id': '98246150-6af7-4b74-90a4-d4fcb78c4726', '_collection_name': 'dekkingen'}\n",
      "##### Opname psychiatrisch ziekenhuis  \n",
      "Dit omvat de vergoeding voor een verblijf (opname) in een psychiatrische kliniek of ziekenhuis voor intensieve behandeling. Dit is niet gedekt onder het Standaard plan. Voor het Optimaal plan wordt dit 100% gedekt tot een maximum van 180 dagen. Voor het Excellent plan wordt dit 100% gedekt tot een maximum van 365 dagen.\n",
      "Score: 0.46561235\n",
      "\n"
     ]
    }
   ],
   "source": [
    "for (doc, score) in dense_results:\n",
    "    print(doc.metadata)\n",
    "    print(doc.page_content)\n",
    "    print(f\"Score: {score}\\n\")"
   ]
  },
  {
   "cell_type": "code",
   "execution_count": null,
   "id": "ac8ca060",
   "metadata": {},
   "outputs": [],
   "source": []
  }
 ],
 "metadata": {
  "kernelspec": {
   "display_name": "Python 3 (ipykernel)",
   "language": "python",
   "name": "python3"
  },
  "language_info": {
   "codemirror_mode": {
    "name": "ipython",
    "version": 3
   },
   "file_extension": ".py",
   "mimetype": "text/x-python",
   "name": "python",
   "nbconvert_exporter": "python",
   "pygments_lexer": "ipython3",
   "version": "3.12.12"
  }
 },
 "nbformat": 4,
 "nbformat_minor": 5
}
