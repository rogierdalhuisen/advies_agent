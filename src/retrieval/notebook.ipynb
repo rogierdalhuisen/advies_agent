{
 "cells": [
  {
   "cell_type": "code",
   "execution_count": 7,
   "id": "a6a7384a",
   "metadata": {},
   "outputs": [
    {
     "name": "stdout",
     "output_type": "stream",
     "text": [
      "Imports successful!\n"
     ]
    }
   ],
   "source": [
    "from pathlib import Path\n",
    "import sys\n",
    "import os\n",
    "from pydantic import SecretStr\n",
    "\n",
    "current_folder = Path.cwd()\n",
    "src_root = current_folder.parent\n",
    "project_root = src_root.parent\n",
    "sys.path.insert(0, str(project_root))\n",
    "\n",
    "\n",
    "from src.config import QDRANT_HOST, GEMINI_API_KEY\n",
    "\n",
    "from langchain_google_genai import GoogleGenerativeAIEmbeddings\n",
    "from langchain_qdrant import QdrantVectorStore\n",
    "from qdrant_client import QdrantClient\n",
    "from qdrant_client.models import Filter, FieldCondition, MatchValue\n",
    "from langchain_qdrant import QdrantVectorStore, RetrievalMode, FastEmbedSparse\n",
    "\n",
    "print(\"Imports successful!\")"
   ]
  },
  {
   "cell_type": "markdown",
   "id": "81ccab5f",
   "metadata": {},
   "source": [
    "### Configuration"
   ]
  },
  {
   "cell_type": "code",
   "execution_count": 8,
   "id": "fba8a8b5",
   "metadata": {},
   "outputs": [
    {
     "name": "stderr",
     "output_type": "stream",
     "text": [
      "Fetching 18 files: 100%|██████████| 18/18 [00:00<00:00, 34.99it/s]\n"
     ]
    }
   ],
   "source": [
    "COLLECTION_NAME = \"dekkingen\"\n",
    "EMBEDDING_MODEL_NAME = \"models/embedding-001\"\n",
    "COLLECTION_NAME = \"dekkingen\"\n",
    "EMBEDDING_MODEL_NAME = \"models/embedding-001\"  # Google's embedding model\n",
    "EMBEDDING_DIMENSION = 768  # embedding-001 produces 768-dimensional vectors\n",
    "# Sparse embedding configuration for hybrid retrieval\n",
    "SPARSE_MODEL_NAME = \"Qdrant/bm25\"  # BM25 sparse embeddings\n",
    "DENSE_VECTOR_NAME = \"dense\"  # Name for dense vectors in Qdrant\n",
    "SPARSE_VECTOR_NAME = \"sparse\"  # Name for sparse vectors in Qdrant\n",
    "\n",
    "embeddings = GoogleGenerativeAIEmbeddings(\n",
    "            model=EMBEDDING_MODEL_NAME,\n",
    "            google_api_key=SecretStr(GEMINI_API_KEY) if GEMINI_API_KEY else None\n",
    "        )\n",
    "\n",
    "sparse_embeddings = FastEmbedSparse(model_name=SPARSE_MODEL_NAME)"
   ]
  },
  {
   "cell_type": "markdown",
   "id": "7868f56e",
   "metadata": {},
   "source": [
    "### Retrieving"
   ]
  },
  {
   "cell_type": "code",
   "execution_count": 9,
   "id": "504d8929",
   "metadata": {},
   "outputs": [],
   "source": [
    "client = QdrantClient(host=QDRANT_HOST)"
   ]
  },
  {
   "cell_type": "code",
   "execution_count": 20,
   "id": "8b8209f5",
   "metadata": {},
   "outputs": [],
   "source": [
    "vector_store = QdrantVectorStore(\n",
    "    client=client,\n",
    "    collection_name=\"dekkingen\",\n",
    "    embedding=embeddings,\n",
    "    sparse_embedding=sparse_embeddings,\n",
    "    retrieval_mode=RetrievalMode.DENSE,\n",
    "    vector_name=\"dense\",\n",
    "    sparse_vector_name=\"sparse\",\n",
    ")"
   ]
  },
  {
   "cell_type": "code",
   "execution_count": 21,
   "id": "b3bbf797",
   "metadata": {},
   "outputs": [],
   "source": [
    "query = \"wat kan ik verwachten voor zwangerschapsdekking in verenigde staten?\"\n",
    "\n",
    "dense_result = vector_store.similarity_search_with_score(\n",
    "    query,\n",
    "    k=5,\n",
    ")\n"
   ]
  },
  {
   "cell_type": "code",
   "execution_count": 22,
   "id": "6739b2e5",
   "metadata": {},
   "outputs": [
    {
     "name": "stdout",
     "output_type": "stream",
     "text": [
      "{'document_name': 'goudse_dekking.md', 'document_id': '66cf5937e9872a08', 'company': 'Goudse', 'ingestion_timestamp': '2025-10-23T20:19:55.751488', 'filepath': '/app/data/documents/dekkingen/goudse_dekking.md', 'header_1': 'Expat Pakket Individueel - Premie- en dekkingsoverzicht 2025', 'header_2': '2. Ziektekosten', 'header_3': '2.1 Verzekerde rubrieken ziektekosten', 'header_4': 'Zwangerschap en bevalling', 'header_5': 'Bevalling (niet in VS)', '_id': '98d00a1d-4fbc-4f96-8395-102e2f172d67', '_collection_name': 'dekkingen'}\n",
      "#### Zwangerschap en bevalling  \n",
      "##### Bevalling (niet in VS)  \n",
      "Dit betreft de vergoeding van de kosten voor een bevalling die plaatsvindt buiten de Verenigde Staten. Dit is niet gedekt onder het Standaard plan. Voor het Optimaal plan is dit 100% gedekt. Voor het Excellent plan is dit 100% gedekt.\n",
      "Score: 0.8216406\n",
      "\n",
      "{'document_name': 'goudse_dekking.md', 'document_id': '66cf5937e9872a08', 'company': 'Goudse', 'ingestion_timestamp': '2025-10-23T20:19:55.751488', 'filepath': '/app/data/documents/dekkingen/goudse_dekking.md', 'header_1': 'Expat Pakket Individueel - Premie- en dekkingsoverzicht 2025', 'header_2': '2. Ziektekosten', 'header_3': '2.1 Verzekerde rubrieken ziektekosten', 'header_4': 'Zwangerschap en bevalling', 'header_5': 'Verloskundige', '_id': '513f980e-89f1-4064-a7a2-0985539b9397', '_collection_name': 'dekkingen'}\n",
      "##### Verloskundige  \n",
      "Dit omvat de vergoeding voor de zorg en begeleiding door een verloskundige tijdens de zwangerschap en de bevalling. Dit is niet gedekt onder het Standaard plan. Voor het Optimaal plan is dit 100% gedekt. Voor het Excellent plan is dit 100% gedekt.\n",
      "Score: 0.8130742\n",
      "\n",
      "{'document_name': 'goudse_dekking.md', 'document_id': '66cf5937e9872a08', 'company': 'Goudse', 'ingestion_timestamp': '2025-10-23T20:19:55.751488', 'filepath': '/app/data/documents/dekkingen/goudse_dekking.md', 'header_1': 'Expat Pakket Individueel - Premie- en dekkingsoverzicht 2025', 'header_2': '2. Ziektekosten', 'header_3': '2.1 Verzekerde rubrieken ziektekosten', 'header_4': 'Zwangerschap en bevalling', 'header_5': 'Prenatale screening', '_id': 'd6571265-e42b-4470-9cca-8a5112eb6b77', '_collection_name': 'dekkingen'}\n",
      "##### Prenatale screening  \n",
      "Dit verwijst naar onderzoeken tijdens de zwangerschap om de gezondheid van de ongeboren baby te controleren. Dit is niet gedekt onder het Standaard plan. Voor het Optimaal plan is dit 100% gedekt. Voor het Excellent plan is dit 100% gedekt.\n",
      "Score: 0.8040522\n",
      "\n",
      "{'document_name': 'goudse_dekking.md', 'document_id': '66cf5937e9872a08', 'company': 'Goudse', 'ingestion_timestamp': '2025-10-23T20:19:55.751488', 'filepath': '/app/data/documents/dekkingen/goudse_dekking.md', 'header_1': 'Expat Pakket Individueel - Premie- en dekkingsoverzicht 2025', 'header_2': '2. Ziektekosten', '_id': 'e7735d9f-3410-4cb1-bd1c-e6832c973eca', '_collection_name': 'dekkingen'}\n",
      "## 2. Ziektekosten  \n",
      "De genoemde bedragen gelden per verzekerde per verzekeringsjaar, tenzij anders vermeld.  \n",
      "- **Maximaal verzekerd bedrag:** € 2.000.000,- per verzekerde per ziektegeval\n",
      "- **Aangeboren afwijkingen (Regio C & D):** Voor kinderen geboren na ingangsdatum verzekering, maximaal € 1.000.000,- per ziektegeval\n",
      "- **Verzekerden vanaf 67 jaar:** Maximaal € 100.000,- per ziektegeval\n",
      "- **Verzekerden vanaf 67 jaar in de VS:** Maximaal € 150.000,-\n",
      "Score: 0.80085015\n",
      "\n",
      "{'document_name': 'goudse_dekking.md', 'document_id': '66cf5937e9872a08', 'company': 'Goudse', 'ingestion_timestamp': '2025-10-23T20:19:55.751488', 'filepath': '/app/data/documents/dekkingen/goudse_dekking.md', 'header_1': 'Expat Pakket Individueel - Premie- en dekkingsoverzicht 2025', 'header_2': '2. Ziektekosten', 'header_3': '2.1 Verzekerde rubrieken ziektekosten', 'header_4': 'Zwangerschap en bevalling', 'header_5': 'Abortus', '_id': '9f7cd6c5-1f2b-4680-b48e-6ef6cf3fcbe7', '_collection_name': 'dekkingen'}\n",
      "##### Abortus  \n",
      "Dit omvat de vergoeding voor het medisch beëindigen van een zwangerschap. Dit is niet gedekt onder het Standaard plan. Voor het Optimaal plan is dit 100% gedekt. Voor het Excellent plan is dit 100% gedekt.\n",
      "Score: 0.80014944\n",
      "\n"
     ]
    }
   ],
   "source": [
    "for (doc, score) in dense_result:\n",
    "    print(doc.metadata)\n",
    "    print(doc.page_content)\n",
    "    print(f\"Score: {score}\\n\")"
   ]
  },
  {
   "cell_type": "code",
   "execution_count": 10,
   "id": "a13baa64",
   "metadata": {},
   "outputs": [
    {
     "name": "stdout",
     "output_type": "stream",
     "text": [
      "{'document_name': 'goudse_dekking.md', 'document_id': '66cf5937e9872a08', 'company': 'Goudse', 'ingestion_timestamp': '2025-10-23T16:08:12.871179', 'filepath': '/app/data/documents/dekkingen/goudse_dekking.md', 'header_1': 'Expat Pakket Individueel - Premie- en dekkingsoverzicht 2025', 'header_2': '2. Ziektekosten', 'header_3': '2.1 Verzekerde rubrieken ziektekosten', 'header_4': 'Zwangerschap en bevalling', 'header_5': 'Sterilisatie', '_id': '50efb225-8aab-4cc3-bb7c-5d034896a868', '_collection_name': 'dekkingen'}\n",
      "##### Sterilisatie  \n",
      "Dit betreft de vergoeding voor een medische ingreep die resulteert in permanente onvruchtbaarheid. Dit is niet gedekt onder het Standaard plan. Voor het Optimaal plan is dit 100% gedekt. Voor het Excellent plan is dit 100% gedekt.\n",
      "Score: 0.8250388\n",
      "\n",
      "{'document_name': 'goudse_dekking.md', 'document_id': '66cf5937e9872a08', 'company': 'Goudse', 'ingestion_timestamp': '2025-10-23T16:08:12.871179', 'filepath': '/app/data/documents/dekkingen/goudse_dekking.md', 'header_1': 'Expat Pakket Individueel - Premie- en dekkingsoverzicht 2025', 'header_2': '2. Ziektekosten', 'header_3': '2.1 Verzekerde rubrieken ziektekosten', 'header_4': 'Bijzondere rechten en aanspraken', 'header_5': 'Erfelijkheidsonderzoek', '_id': '17426433-7fc7-47b8-bf02-0054a28bde42', '_collection_name': 'dekkingen'}\n",
      "##### Erfelijkheidsonderzoek  \n",
      "Dit verwijst naar de vergoeding voor onderzoek naar erfelijke aanleg voor bepaalde aandoeningen of ziekten. Dit is niet gedekt onder het Standaard plan. Dit is niet gedekt onder het Optimaal plan. Voor het Excellent plan is dit 100% gedekt.\n",
      "Score: 0.82484305\n",
      "\n",
      "{'document_name': 'henner_dekking.md', 'document_id': '79df16d23a93ed39', 'company': 'Henner', 'ingestion_timestamp': '2025-10-23T16:08:12.871443', 'filepath': '/app/data/documents/dekkingen/henner_dekking.md', 'header_1': 'International Expat Insurance Package - Benefit Overview 2025', 'header_2': 'International Medical and Assistance Insurance - Core Plan', 'header_4': 'HOSPITALISATION', 'header_5': 'Kidney dialysis', '_id': 'a12aba4b-791f-4184-bfe6-46f6f1e7f1ab', '_collection_name': 'dekkingen'}\n",
      "##### Kidney dialysis  \n",
      "Dit dekt de kosten voor nierdialysebehandelingen, noodzakelijk bij nierfalen. Het Essential plan biedt 100% dekking. Het Bronze plan biedt 100% dekking. Het Gold plan biedt 100% dekking.\n",
      "Score: 0.82474256\n",
      "\n",
      "{'document_name': 'goudse_dekking.md', 'document_id': '66cf5937e9872a08', 'company': 'Goudse', 'ingestion_timestamp': '2025-10-23T16:08:12.871179', 'filepath': '/app/data/documents/dekkingen/goudse_dekking.md', 'header_1': 'Expat Pakket Individueel - Premie- en dekkingsoverzicht 2025', 'header_2': '2. Ziektekosten', 'header_3': '2.1 Verzekerde rubrieken ziektekosten', 'header_4': 'Klinisch', 'header_5': 'Ooglidcorrectie', '_id': 'a8f7e3f9-c22f-415f-94ba-eb811ba13bf3', '_collection_name': 'dekkingen'}\n",
      "##### Ooglidcorrectie  \n",
      "Dit verwijst naar de vergoeding voor een chirurgische ingreep aan de oogleden, vaak om het zicht te verbeteren of om cosmetische redenen. Dit is niet gedekt onder het Standaard plan. Dit is niet gedekt onder het Optimaal plan. Voor het Excellent plan is dit 100% gedekt.\n",
      "Score: 0.8184834\n",
      "\n",
      "{'document_name': 'goudse_dekking.md', 'document_id': '66cf5937e9872a08', 'company': 'Goudse', 'ingestion_timestamp': '2025-10-23T16:08:12.871179', 'filepath': '/app/data/documents/dekkingen/goudse_dekking.md', 'header_1': 'Expat Pakket Individueel - Premie- en dekkingsoverzicht 2025', 'header_2': '2. Ziektekosten', 'header_3': '2.1 Verzekerde rubrieken ziektekosten', 'header_4': 'Poliklinisch', 'header_5': '(Thuis)dialyse', '_id': 'ddf892c6-2f23-402b-ad24-a998b5ea128a', '_collection_name': 'dekkingen'}\n",
      "##### (Thuis)dialyse  \n",
      "Dit verwijst naar de vergoeding van nierdialysebehandelingen, zowel thuis als in een kliniek. Dit is niet gedekt onder het Standaard plan. Voor het Optimaal plan is dit 100% gedekt. Voor het Excellent plan is dit 100% gedekt.\n",
      "Score: 0.81803536\n",
      "\n"
     ]
    }
   ],
   "source": [
    "for (doc, score) in result:\n",
    "    print(doc.metadata)\n",
    "    print(doc.page_content)\n",
    "    print(f\"Score: {score}\\n\")\n",
    "    "
   ]
  }
 ],
 "metadata": {
  "kernelspec": {
   "display_name": "Python 3 (ipykernel)",
   "language": "python",
   "name": "python3"
  }
 },
 "nbformat": 4,
 "nbformat_minor": 5
}
