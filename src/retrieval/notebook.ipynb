{
 "cells": [
  {
   "cell_type": "code",
   "execution_count": 5,
   "id": "a6a7384a",
   "metadata": {},
   "outputs": [
    {
     "name": "stdout",
     "output_type": "stream",
     "text": [
      "Imports successful!\n"
     ]
    }
   ],
   "source": [
    "from pathlib import Path\n",
    "import sys\n",
    "import os\n",
    "from pydantic import SecretStr\n",
    "\n",
    "current_folder = Path.cwd()\n",
    "src_root = current_folder.parent\n",
    "project_root = src_root.parent\n",
    "sys.path.insert(0, str(project_root))\n",
    "\n",
    "\n",
    "from src.config import QDRANT_HOST, GEMINI_API_KEY\n",
    "\n",
    "from langchain_google_genai import GoogleGenerativeAIEmbeddings\n",
    "from langchain_qdrant import QdrantVectorStore\n",
    "from qdrant_client import QdrantClient\n",
    "from qdrant_client.models import Filter, FieldCondition, MatchValue\n",
    "\n",
    "print(\"Imports successful!\")"
   ]
  },
  {
   "cell_type": "markdown",
   "id": "81ccab5f",
   "metadata": {},
   "source": [
    "### Configuration"
   ]
  },
  {
   "cell_type": "code",
   "execution_count": 6,
   "id": "fba8a8b5",
   "metadata": {},
   "outputs": [],
   "source": [
    "COLLECTION_NAME = \"dekkingen\"\n",
    "EMBEDDING_MODEL_NAME = \"models/embedding-001\"\n",
    "\n",
    "embeddings = GoogleGenerativeAIEmbeddings(\n",
    "            model=EMBEDDING_MODEL_NAME,\n",
    "            google_api_key=SecretStr(GEMINI_API_KEY) if GEMINI_API_KEY else None\n",
    "        )"
   ]
  },
  {
   "cell_type": "markdown",
   "id": "7868f56e",
   "metadata": {},
   "source": [
    "### Retrieving"
   ]
  },
  {
   "cell_type": "code",
   "execution_count": 4,
   "id": "8b8209f5",
   "metadata": {},
   "outputs": [],
   "source": [
    "client = QdrantClient(host=QDRANT_HOST)\n",
    "vector_store = QdrantVectorStore(\n",
    "    client=client,\n",
    "    collection_name=COLLECTION_NAME,\n",
    "    embedding=embeddings,\n",
    ")"
   ]
  },
  {
   "cell_type": "code",
   "execution_count": 9,
   "id": "b3bbf797",
   "metadata": {},
   "outputs": [],
   "source": [
    "query = \"mijn nieren zijn beschadigd, welke dekking is van toepassing?\"\n",
    "\n",
    "result = vector_store.similarity_search_with_score(\n",
    "    query,\n",
    "    k=5,\n",
    ")"
   ]
  },
  {
   "cell_type": "code",
   "execution_count": 10,
   "id": "a13baa64",
   "metadata": {},
   "outputs": [
    {
     "name": "stdout",
     "output_type": "stream",
     "text": [
      "{'document_name': 'goudse_dekking.md', 'document_id': '66cf5937e9872a08', 'company': 'Goudse', 'ingestion_timestamp': '2025-10-23T16:08:12.871179', 'filepath': '/app/data/documents/dekkingen/goudse_dekking.md', 'header_1': 'Expat Pakket Individueel - Premie- en dekkingsoverzicht 2025', 'header_2': '2. Ziektekosten', 'header_3': '2.1 Verzekerde rubrieken ziektekosten', 'header_4': 'Zwangerschap en bevalling', 'header_5': 'Sterilisatie', '_id': '50efb225-8aab-4cc3-bb7c-5d034896a868', '_collection_name': 'dekkingen'}\n",
      "##### Sterilisatie  \n",
      "Dit betreft de vergoeding voor een medische ingreep die resulteert in permanente onvruchtbaarheid. Dit is niet gedekt onder het Standaard plan. Voor het Optimaal plan is dit 100% gedekt. Voor het Excellent plan is dit 100% gedekt.\n",
      "Score: 0.8250388\n",
      "\n",
      "{'document_name': 'goudse_dekking.md', 'document_id': '66cf5937e9872a08', 'company': 'Goudse', 'ingestion_timestamp': '2025-10-23T16:08:12.871179', 'filepath': '/app/data/documents/dekkingen/goudse_dekking.md', 'header_1': 'Expat Pakket Individueel - Premie- en dekkingsoverzicht 2025', 'header_2': '2. Ziektekosten', 'header_3': '2.1 Verzekerde rubrieken ziektekosten', 'header_4': 'Bijzondere rechten en aanspraken', 'header_5': 'Erfelijkheidsonderzoek', '_id': '17426433-7fc7-47b8-bf02-0054a28bde42', '_collection_name': 'dekkingen'}\n",
      "##### Erfelijkheidsonderzoek  \n",
      "Dit verwijst naar de vergoeding voor onderzoek naar erfelijke aanleg voor bepaalde aandoeningen of ziekten. Dit is niet gedekt onder het Standaard plan. Dit is niet gedekt onder het Optimaal plan. Voor het Excellent plan is dit 100% gedekt.\n",
      "Score: 0.82484305\n",
      "\n",
      "{'document_name': 'henner_dekking.md', 'document_id': '79df16d23a93ed39', 'company': 'Henner', 'ingestion_timestamp': '2025-10-23T16:08:12.871443', 'filepath': '/app/data/documents/dekkingen/henner_dekking.md', 'header_1': 'International Expat Insurance Package - Benefit Overview 2025', 'header_2': 'International Medical and Assistance Insurance - Core Plan', 'header_4': 'HOSPITALISATION', 'header_5': 'Kidney dialysis', '_id': 'a12aba4b-791f-4184-bfe6-46f6f1e7f1ab', '_collection_name': 'dekkingen'}\n",
      "##### Kidney dialysis  \n",
      "Dit dekt de kosten voor nierdialysebehandelingen, noodzakelijk bij nierfalen. Het Essential plan biedt 100% dekking. Het Bronze plan biedt 100% dekking. Het Gold plan biedt 100% dekking.\n",
      "Score: 0.82474256\n",
      "\n",
      "{'document_name': 'goudse_dekking.md', 'document_id': '66cf5937e9872a08', 'company': 'Goudse', 'ingestion_timestamp': '2025-10-23T16:08:12.871179', 'filepath': '/app/data/documents/dekkingen/goudse_dekking.md', 'header_1': 'Expat Pakket Individueel - Premie- en dekkingsoverzicht 2025', 'header_2': '2. Ziektekosten', 'header_3': '2.1 Verzekerde rubrieken ziektekosten', 'header_4': 'Klinisch', 'header_5': 'Ooglidcorrectie', '_id': 'a8f7e3f9-c22f-415f-94ba-eb811ba13bf3', '_collection_name': 'dekkingen'}\n",
      "##### Ooglidcorrectie  \n",
      "Dit verwijst naar de vergoeding voor een chirurgische ingreep aan de oogleden, vaak om het zicht te verbeteren of om cosmetische redenen. Dit is niet gedekt onder het Standaard plan. Dit is niet gedekt onder het Optimaal plan. Voor het Excellent plan is dit 100% gedekt.\n",
      "Score: 0.8184834\n",
      "\n",
      "{'document_name': 'goudse_dekking.md', 'document_id': '66cf5937e9872a08', 'company': 'Goudse', 'ingestion_timestamp': '2025-10-23T16:08:12.871179', 'filepath': '/app/data/documents/dekkingen/goudse_dekking.md', 'header_1': 'Expat Pakket Individueel - Premie- en dekkingsoverzicht 2025', 'header_2': '2. Ziektekosten', 'header_3': '2.1 Verzekerde rubrieken ziektekosten', 'header_4': 'Poliklinisch', 'header_5': '(Thuis)dialyse', '_id': 'ddf892c6-2f23-402b-ad24-a998b5ea128a', '_collection_name': 'dekkingen'}\n",
      "##### (Thuis)dialyse  \n",
      "Dit verwijst naar de vergoeding van nierdialysebehandelingen, zowel thuis als in een kliniek. Dit is niet gedekt onder het Standaard plan. Voor het Optimaal plan is dit 100% gedekt. Voor het Excellent plan is dit 100% gedekt.\n",
      "Score: 0.81803536\n",
      "\n"
     ]
    }
   ],
   "source": [
    "for (doc, score) in result:\n",
    "    print(doc.metadata)\n",
    "    print(doc.page_content)\n",
    "    print(f\"Score: {score}\\n\")\n",
    "    "
   ]
  }
 ],
 "metadata": {
  "kernelspec": {
   "display_name": "Python (advies_agent)",
   "language": "python",
   "name": "venv"
  },
  "language_info": {
   "codemirror_mode": {
    "name": "ipython",
    "version": 3
   },
   "file_extension": ".py",
   "mimetype": "text/x-python",
   "name": "python",
   "nbconvert_exporter": "python",
   "pygments_lexer": "ipython3",
   "version": "3.12.9"
  }
 },
 "nbformat": 4,
 "nbformat_minor": 5
}
